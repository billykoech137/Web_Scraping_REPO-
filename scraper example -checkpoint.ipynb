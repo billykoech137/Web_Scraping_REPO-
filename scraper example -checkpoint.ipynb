{
 "cells": [
  {
   "cell_type": "code",
   "execution_count": 67,
   "id": "874c1664",
   "metadata": {},
   "outputs": [
    {
     "name": "stdout",
     "output_type": "stream",
     "text": [
      "Written to Excel successfuly\n"
     ]
    }
   ],
   "source": [
    "import requests\n",
    "import pandas as pd\n",
    "from bs4 import BeautifulSoup as bs\n",
    "\n",
    "url = \"https://www.passiton.com/inspirational-quotes\"\n",
    "r = requests.get(url)\n",
    "soup = bs(r.content, \"lxml\")\n",
    "\n",
    "quotes = []\n",
    "\n",
    "tables = soup.find(\"div\", attrs = {\"id\":\"all_quotes\"})\n",
    "r = soup.find(\"div\", attrs = {\"class\":\"col-6 col-lg-3 text-center margin-30px-bottom sm-margin-30px-top\"})\n",
    "\n",
    "for row in tables.find_all(\"div\", attrs = {\"class\":\"col-6 col-lg-3 text-center margin-30px-bottom sm-margin-30px-top\"}):\n",
    "    quote = {}\n",
    "    quote[\"theme\"] = row.h5.text\n",
    "    quote[\"Lines\"] = row.img[\"alt\"].split(\" #\")[0]\n",
    "    quotes.append(quote)\n",
    "\n",
    "#writing to excel    \n",
    "listed = pd.DataFrame(quotes)\n",
    "listed.to_excel(\"quotes.xlsx\", \"QUOTES\")\n",
    "print(\"Written to Excel successfuly\")"
   ]
  },
  {
   "cell_type": "code",
   "execution_count": null,
   "id": "ec547e8d",
   "metadata": {},
   "outputs": [],
   "source": []
  }
 ],
 "metadata": {
  "kernelspec": {
   "display_name": "Python 3",
   "language": "python",
   "name": "python3"
  },
  "language_info": {
   "codemirror_mode": {
    "name": "ipython",
    "version": 3
   },
   "file_extension": ".py",
   "mimetype": "text/x-python",
   "name": "python",
   "nbconvert_exporter": "python",
   "pygments_lexer": "ipython3",
   "version": "3.8.8"
  }
 },
 "nbformat": 4,
 "nbformat_minor": 5
}
