{
 "cells": [
  {
   "cell_type": "code",
   "execution_count": 5,
   "id": "7ee98f15",
   "metadata": {},
   "outputs": [
    {
     "name": "stdout",
     "output_type": "stream",
     "text": [
      "SUCCESSFUL\n"
     ]
    }
   ],
   "source": [
    "#Importing required modules\n",
    "import pandas as pd\n",
    "import requests\n",
    "from bs4 import BeautifulSoup as bs\n",
    "\n",
    "url = \"https://www.toyotsuautomart.com/open/InsDate/desc/1\"\n",
    "\n",
    "def getSoup(url):\n",
    "    r = requests.get(url)\n",
    "    soup = bs(r.content, 'lxml')\n",
    "    return soup\n",
    "\n",
    "def getNextPage(soup):\n",
    "    pageNav = soup.find(\"div\",{\"class\":\"wp-pagenavi\"})\n",
    "    \n",
    "    #if not pageNav.find(\"a\",{\"scan\":\"current\"}):\n",
    "        #next_page = str(pageNav.find(\"a\",{\"class\":\"nextpostslink\"})[\"href\"])\n",
    "        #url = \"https://www.toyotsuautomart.com\" + next_page\n",
    "        #return url\n",
    "        \n",
    "    if pageNav.find(\"a\",{\"class\":\"nextpostslink\"}):\n",
    "        next_page = str(pageNav.find(\"a\",{\"class\":\"nextpostslink\"})[\"href\"])\n",
    "        url = \"https://www.toyotsuautomart.com\" + next_page\n",
    "        return url\n",
    "    else:\n",
    "        return\n",
    "    \n",
    "        \n",
    "    \n",
    "\n",
    "def getCars(soup):\n",
    "    cars = []\n",
    "\n",
    "    carList = soup.find(\"div\", {\"class\":\"carList\"})\n",
    "\n",
    "    for carList in soup.find_all(\"div\", {\"class\":\"carList\"}):\n",
    "        car = {}\n",
    "        \n",
    "        image = carList.find(\"div\", {\"class\":\"imgLink\"})\n",
    "        get_link = str(image.find(\"a\")[\"href\"])\n",
    "        image_link = \"https://www.toyotsuautomart.com\" + get_link\n",
    "\n",
    "        car[\"MAKE\"] = carList.find(\"td\", {\"class\":\"tdUpper01\"}).text\n",
    "        car[\"MODEL\"] = carList.find(\"td\", {\"class\":\"tdUpper02\"}).text\n",
    "        car[\"PRICE(ksh)\"] = carList.find(\"span\", {\"class\": \"price\"}).text.split(\" \")[1]\n",
    "        car[\"AT/MT\"] = carList.find(\"td\", {\"class\":\"tdUpper03\"}).text\n",
    "        car[\"YEAR\"] = carList.find(\"td\", {\"class\":\"tdUpper04\"}).text\n",
    "        car[\"FUEL\"] = carList.find(\"td\", {\"class\":\"tdUpper05\"}).text\n",
    "        car[\"MILEAGE\"] = carList.find(\"td\", {\"class\":\"tdUpper06\"}).text.split(\"\\n\")[1] \n",
    "        car[\"ENGINE\"] = carList.find(\"td\", {\"class\":\"tdUpper07\"}).text\n",
    "        car[\"STATUS\"] = carList.find(\"td\", {\"class\":\"tdUpper08\"}).text\n",
    "        car[\"LINK\"] = image_link\n",
    "\n",
    "        cars.append(car)        \n",
    "    \n",
    "    return cars\n",
    "\n",
    "masterList = []\n",
    "\n",
    "while True:\n",
    "    soup = getSoup(url)\n",
    "    cars = getCars(soup)\n",
    "    url = getNextPage(soup)\n",
    "    masterList = masterList + cars\n",
    "    if not url:\n",
    "        break\n",
    "\n",
    "listed_cars = pd.DataFrame(masterList)\n",
    "listed_cars.to_json(\"Listed Cars.json\")\n",
    "listed_cars.to_excel(\"Listed Cars.xlsx\")\n",
    "print(\"SUCCESSFUL\")"
   ]
  },
  {
   "cell_type": "code",
   "execution_count": null,
   "id": "831728f5",
   "metadata": {},
   "outputs": [],
   "source": []
  }
 ],
 "metadata": {
  "kernelspec": {
   "display_name": "Python 3",
   "language": "python",
   "name": "python3"
  },
  "language_info": {
   "codemirror_mode": {
    "name": "ipython",
    "version": 3
   },
   "file_extension": ".py",
   "mimetype": "text/x-python",
   "name": "python",
   "nbconvert_exporter": "python",
   "pygments_lexer": "ipython3",
   "version": "3.8.8"
  }
 },
 "nbformat": 4,
 "nbformat_minor": 5
}
