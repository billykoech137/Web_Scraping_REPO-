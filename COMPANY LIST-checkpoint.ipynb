{
 "cells": [
  {
   "cell_type": "code",
   "execution_count": 70,
   "id": "f3e47f55",
   "metadata": {},
   "outputs": [],
   "source": [
    "import requests\n",
    "from bs4 import BeautifulSoup as bs\n",
    "from time import sleep\n",
    "import pandas as pd\n",
    "\n",
    "from selenium import webdriver\n",
    "from selenium.webdriver.common.keys import Keys\n",
    "from webdriver_manager.chrome import ChromeDriverManager\n",
    "\n",
    "def get_companies(soup):\n",
    "        \n",
    "    company     = soup.find(\"tbody\") \n",
    "    n           = company.find(\"tr\")\n",
    "    masterList  = []\n",
    "\n",
    "    for n in company.find_all(\"tr\"):\n",
    "\n",
    "        c1                = []\n",
    "\n",
    "        for row in n.find_all(\"td\"): \n",
    "            name = row.text\n",
    "            c1.append(name)\n",
    "\n",
    "        c2                = {}\n",
    "        c2[\"NAME\"]        = c1[1]\n",
    "        c2[\"DEPARTMENT\"]  = c1[2]\n",
    "\n",
    "        masterList.append(c2)\n",
    "\n",
    "    return masterList\n"
   ]
  },
  {
   "cell_type": "code",
   "execution_count": 71,
   "id": "883df943",
   "metadata": {},
   "outputs": [
    {
     "name": "stderr",
     "output_type": "stream",
     "text": [
      "\n",
      "\n",
      "====== WebDriver manager ======\n",
      "Current google-chrome version is 93.0.4577\n",
      "Get LATEST driver version for 93.0.4577\n",
      "Get LATEST driver version for 93.0.4577\n",
      "Trying to download new driver from https://chromedriver.storage.googleapis.com/93.0.4577.63/chromedriver_win32.zip\n",
      "Driver has been saved in cache [C:\\Users\\Billy\\.wdm\\drivers\\chromedriver\\win32\\93.0.4577.63]\n"
     ]
    }
   ],
   "source": [
    "driver = webdriver.Chrome(ChromeDriverManager().install())"
   ]
  },
  {
   "cell_type": "code",
   "execution_count": 72,
   "id": "b083faa3",
   "metadata": {},
   "outputs": [],
   "source": [
    "url = 'https://ebk.go.ke/engineering-consulting-firms/?tk=1632304646'\n",
    "driver.get(url)\n",
    "sleep(5)"
   ]
  },
  {
   "cell_type": "code",
   "execution_count": 73,
   "id": "a20a501e",
   "metadata": {},
   "outputs": [],
   "source": [
    "el = driver.find_element_by_id(\"dt_list_ajx_length\")\n",
    "values = el.find_elements_by_tag_name(\"option\")\n",
    "\n",
    "for option in values:\n",
    "    if option.text == \"100\":\n",
    "        option.click()\n",
    "\n",
    "sleep(10)\n",
    "\n",
    "html_one = driver.page_source\n",
    "soup1 = bs(html_one, \"html.parser\")\n",
    "List1 = get_companies(soup1)"
   ]
  },
  {
   "cell_type": "code",
   "execution_count": 74,
   "id": "b5e6b9d4",
   "metadata": {},
   "outputs": [],
   "source": [
    "el2 = driver.find_element_by_id(\"dt_list_ajx_paginate\")\n",
    "v2 = el2.find_element_by_tag_name(\"span\")\n",
    "p2 = v2.find_elements_by_tag_name(\"a\")\n",
    "page2 = p2[1].click()\n",
    "\n",
    "sleep(10)\n",
    "\n",
    "html_two = driver.page_source\n",
    "soup2 = bs(html_two, \"html.parser\")\n",
    "List2 = get_companies(soup2)"
   ]
  },
  {
   "cell_type": "code",
   "execution_count": 75,
   "id": "ba8d6fd4",
   "metadata": {},
   "outputs": [
    {
     "name": "stdout",
     "output_type": "stream",
     "text": [
      "Success\n"
     ]
    }
   ],
   "source": [
    "List3 = List1 + List2\n",
    "all_companies = pd.DataFrame(List3)\n",
    "all_companies.to_excel(\"COMPANY LIST2.xlsx\")\n",
    "print(\"Success\")\n"
   ]
  },
  {
   "cell_type": "code",
   "execution_count": null,
   "id": "1989fcd8",
   "metadata": {},
   "outputs": [],
   "source": [
    "driver.quit()"
   ]
  }
 ],
 "metadata": {
  "kernelspec": {
   "display_name": "Python 3",
   "language": "python",
   "name": "python3"
  },
  "language_info": {
   "codemirror_mode": {
    "name": "ipython",
    "version": 3
   },
   "file_extension": ".py",
   "mimetype": "text/x-python",
   "name": "python",
   "nbconvert_exporter": "python",
   "pygments_lexer": "ipython3",
   "version": "3.8.8"
  }
 },
 "nbformat": 4,
 "nbformat_minor": 5
}
