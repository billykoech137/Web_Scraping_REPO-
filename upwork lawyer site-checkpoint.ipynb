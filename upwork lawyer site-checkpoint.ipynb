{
 "cells": [
  {
   "cell_type": "code",
   "execution_count": 1,
   "id": "27989173",
   "metadata": {},
   "outputs": [],
   "source": [
    "import pandas as pd\n",
    "from bs4 import BeautifulSoup as bs\n",
    "import requests"
   ]
  },
  {
   "cell_type": "code",
   "execution_count": 3,
   "id": "23d85b85",
   "metadata": {},
   "outputs": [
    {
     "name": "stdout",
     "output_type": "stream",
     "text": [
      "<Response [200]>\n"
     ]
    }
   ],
   "source": [
    "url = \"https://www.avukati.org/find-a-lawyer/?lawyer_name=&lawyer_firm=&fal_search_lawyer_submit=1&submit=\"\n",
    "r = requests.get(url)\n",
    "soup = bs(r.content, \"html.parser\")\n",
    "print (r)"
   ]
  },
  {
   "cell_type": "code",
   "execution_count": 25,
   "id": "4f9dbab2",
   "metadata": {},
   "outputs": [],
   "source": [
    "lawyer_row =soup.find_all(\"div\",{\"class\":\"row collapse lawyer-results-row\"})\n",
    "law_data = []\n",
    "\n",
    "for r in lawyer_row:\n",
    "    details = {}\n",
    "    \n",
    "    det1 = r.find(\"div\",{\"class\":\"small-12 medium-6 columns\"})\n",
    "    name = det1.find(\"a\").text.split(\" \")\n",
    "    \n",
    "    details[\"First Name\"] = name[1]\n",
    "    \n",
    "    full_name = name[1] + \" \" + name[2]\n",
    "    \n",
    "    details[\"firm\"] = det1.find(\"h6\").text\n",
    "\n",
    "    det2 = r.find(\"div\",{\"class\":\"medium-6 small-12 columns contact-details\"})\n",
    "    email = det2.find(\"a\").text\n",
    "    \n",
    "    law_data.append(details)\n",
    "    "
   ]
  },
  {
   "cell_type": "code",
   "execution_count": 33,
   "id": "88c4e349",
   "metadata": {},
   "outputs": [
    {
     "name": "stdout",
     "output_type": "stream",
     "text": [
      "     First Name                                  firm\n",
      "0         Wayne                   Pisani & Associates\n",
      "1        Andrew                                      \n",
      "2      Miggiani                        M&RK Advocates\n",
      "3     Nicolette                        Aequitas Legal\n",
      "4        Joseph                                      \n",
      "...         ...                                   ...\n",
      "997      Perici                             PCM Legal\n",
      "998    Kristina                                      \n",
      "999     Daniela  Mifsud Bonnici & Camilleri Advocates\n",
      "1000       Borg                        BCGL Advocates\n",
      "1001       Ivan                                      \n",
      "\n",
      "[1002 rows x 2 columns]\n"
     ]
    }
   ],
   "source": [
    "my_data = pd.DataFrame(law_data)\n",
    "my_data.to_excel(\"Data Extraction.xlsx\")\n",
    "print(my_data)"
   ]
  },
  {
   "cell_type": "code",
   "execution_count": null,
   "id": "6c536111",
   "metadata": {},
   "outputs": [],
   "source": []
  }
 ],
 "metadata": {
  "kernelspec": {
   "display_name": "Python 3",
   "language": "python",
   "name": "python3"
  },
  "language_info": {
   "codemirror_mode": {
    "name": "ipython",
    "version": 3
   },
   "file_extension": ".py",
   "mimetype": "text/x-python",
   "name": "python",
   "nbconvert_exporter": "python",
   "pygments_lexer": "ipython3",
   "version": "3.8.8"
  }
 },
 "nbformat": 4,
 "nbformat_minor": 5
}
