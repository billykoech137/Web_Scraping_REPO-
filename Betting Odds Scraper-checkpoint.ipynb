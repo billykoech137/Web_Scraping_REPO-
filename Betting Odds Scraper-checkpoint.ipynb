{
 "cells": [
  {
   "cell_type": "code",
   "execution_count": 1,
   "id": "71c4ce42",
   "metadata": {},
   "outputs": [],
   "source": [
    "from webdriver_manager.chrome import ChromeDriverManager\n",
    "from selenium.webdriver.common.keys import Keys\n",
    "from bs4 import BeautifulSoup as bs\n",
    "from selenium import webdriver\n",
    "from time import sleep\n",
    "import pandas as pd\n",
    "import random as rd\n"
   ]
  },
  {
   "cell_type": "code",
   "execution_count": 43,
   "id": "195d0b29",
   "metadata": {},
   "outputs": [
    {
     "name": "stderr",
     "output_type": "stream",
     "text": [
      "\n",
      "\n",
      "====== WebDriver manager ======\n",
      "Current google-chrome version is 94.0.4606\n",
      "Get LATEST driver version for 94.0.4606\n",
      "Get LATEST driver version for 94.0.4606\n",
      "Trying to download new driver from https://chromedriver.storage.googleapis.com/94.0.4606.61/chromedriver_win32.zip\n",
      "Driver has been saved in cache [C:\\Users\\Billy\\.wdm\\drivers\\chromedriver\\win32\\94.0.4606.61]\n"
     ]
    }
   ],
   "source": [
    "driver = webdriver.Chrome(ChromeDriverManager().install())"
   ]
  },
  {
   "cell_type": "code",
   "execution_count": 44,
   "id": "f5f18d9c",
   "metadata": {},
   "outputs": [],
   "source": [
    "driver.get(\"https://www.betika.com/\")\n",
    "sleep(rd.randint(4,9))"
   ]
  },
  {
   "cell_type": "code",
   "execution_count": 45,
   "id": "94d36013",
   "metadata": {},
   "outputs": [],
   "source": [
    "tennis = driver.find_element_by_xpath(\"//a[@href = '/s/tennis']\")\n",
    "tennis.click()\n",
    "sleep(rd.randint(4,9))"
   ]
  },
  {
   "cell_type": "code",
   "execution_count": 46,
   "id": "c4a1122d",
   "metadata": {},
   "outputs": [],
   "source": [
    "html = driver.page_source\n",
    "soup = bs(html, \"html.parser\")"
   ]
  },
  {
   "cell_type": "code",
   "execution_count": 48,
   "id": "f28949c0",
   "metadata": {},
   "outputs": [
    {
     "name": "stdout",
     "output_type": "stream",
     "text": [
      "{'TEAMS': ['Duerst J / Stadle...', 'Lamens S / Steven...'], 'ODDS': ['1.79', '1.91']}\n"
     ]
    }
   ],
   "source": [
    "#container containing all the game information\n",
    "game_con    = soup.find_all(\"div\",{\"class\":\"prebet-match\"})\n",
    "\n",
    "all_games   = {}\n",
    "\n",
    "for rows in game_con:\n",
    "    #container containing the teams and odd information\n",
    "    info_con     = rows.find(\"div\",{\"class\":\"prebet-match__odd-market__container\"})\n",
    "\n",
    "    #GETTING THE HOME AND AWAY TEAMS\n",
    "    teams_con   = info_con.find(\"div\",{\"class\":\"prebet-match__teams\"})\n",
    "    team        = teams_con.find_all(\"span\")\n",
    "    mylist      = []\n",
    "\n",
    "    for r in team:\n",
    "        myteam  = r.text\n",
    "        mylist.append(myteam)\n",
    "\n",
    "    #GETTING THE ODDS FOR THE TEAMS\n",
    "    odd_con     = rows.find(\"div\",{\"class\":\"prebet-match__odds__container\"})\n",
    "    odds        = odd_con.find_all(\"span\")\n",
    "    mylist2     = []\n",
    "\n",
    "    for r in odds:\n",
    "        myodd = r.text\n",
    "        mylist2.append(myodd)\n",
    "    \n",
    "all_games[\"TEAMS\"] = mylist\n",
    "all_games[\"ODDS\"] = mylist2\n",
    "\n",
    "\n",
    "print (all_games)"
   ]
  },
  {
   "cell_type": "code",
   "execution_count": null,
   "id": "b39214f6",
   "metadata": {},
   "outputs": [],
   "source": []
  },
  {
   "cell_type": "code",
   "execution_count": null,
   "id": "2359d854",
   "metadata": {},
   "outputs": [],
   "source": []
  },
  {
   "cell_type": "code",
   "execution_count": null,
   "id": "bbf9d994",
   "metadata": {},
   "outputs": [],
   "source": []
  },
  {
   "cell_type": "code",
   "execution_count": null,
   "id": "0f1d0217",
   "metadata": {},
   "outputs": [],
   "source": []
  },
  {
   "cell_type": "code",
   "execution_count": null,
   "id": "e72a577d",
   "metadata": {},
   "outputs": [],
   "source": []
  },
  {
   "cell_type": "code",
   "execution_count": 49,
   "id": "9f67fc7c",
   "metadata": {},
   "outputs": [],
   "source": [
    "driver.quit()"
   ]
  },
  {
   "cell_type": "code",
   "execution_count": null,
   "id": "89403e4e",
   "metadata": {},
   "outputs": [],
   "source": []
  }
 ],
 "metadata": {
  "kernelspec": {
   "display_name": "Python 3",
   "language": "python",
   "name": "python3"
  },
  "language_info": {
   "codemirror_mode": {
    "name": "ipython",
    "version": 3
   },
   "file_extension": ".py",
   "mimetype": "text/x-python",
   "name": "python",
   "nbconvert_exporter": "python",
   "pygments_lexer": "ipython3",
   "version": "3.8.8"
  }
 },
 "nbformat": 4,
 "nbformat_minor": 5
}
