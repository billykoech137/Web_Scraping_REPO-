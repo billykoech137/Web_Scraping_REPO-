{
 "cells": [
  {
   "cell_type": "code",
   "execution_count": 1,
   "id": "ba390564",
   "metadata": {},
   "outputs": [],
   "source": [
    "import pandas as pd\n",
    "import requests\n",
    "from bs4 import BeautifulSoup as bs"
   ]
  },
  {
   "cell_type": "code",
   "execution_count": 7,
   "id": "5119199b",
   "metadata": {},
   "outputs": [],
   "source": [
    "url = \"https://www.ke.sportpesa.com/jackpot\""
   ]
  },
  {
   "cell_type": "code",
   "execution_count": 16,
   "id": "6a52a793",
   "metadata": {},
   "outputs": [
    {
     "data": {
      "text/plain": [
       "<Response [200]>"
      ]
     },
     "execution_count": 16,
     "metadata": {},
     "output_type": "execute_result"
    }
   ],
   "source": [
    "r = requests.get(url)\n",
    "soup = bs(r.content, 'lxml')\n",
    "r"
   ]
  },
  {
   "cell_type": "code",
   "execution_count": 18,
   "id": "5cbd6428",
   "metadata": {},
   "outputs": [],
   "source": [
    "easy = soup.find(\"div\",{\"class\":\"event-row-container ng-scope\"})\n"
   ]
  },
  {
   "cell_type": "code",
   "execution_count": null,
   "id": "566493f6",
   "metadata": {},
   "outputs": [],
   "source": []
  }
 ],
 "metadata": {
  "kernelspec": {
   "display_name": "Python 3",
   "language": "python",
   "name": "python3"
  },
  "language_info": {
   "codemirror_mode": {
    "name": "ipython",
    "version": 3
   },
   "file_extension": ".py",
   "mimetype": "text/x-python",
   "name": "python",
   "nbconvert_exporter": "python",
   "pygments_lexer": "ipython3",
   "version": "3.8.8"
  }
 },
 "nbformat": 4,
 "nbformat_minor": 5
}
